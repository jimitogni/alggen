{
 "cells": [
  {
   "cell_type": "code",
   "execution_count": 1,
   "metadata": {},
   "outputs": [],
   "source": [
    "from ipythonblocks import BlockGrid, colors"
   ]
  },
  {
   "cell_type": "code",
   "execution_count": 3,
   "metadata": {},
   "outputs": [
    {
     "data": {
      "text/html": [
       "<style type=\"text/css\">table.blockgrid {border: none;} .blockgrid tr {border: none;} .blockgrid td {padding: 0px;} #blocks2b3f432a-948c-424b-93ae-a138fca7c0be td {border: 1px solid white;}</style><table id=\"blocks2b3f432a-948c-424b-93ae-a138fca7c0be\" class=\"blockgrid\"><tbody><tr><td title=\"Index: [0, 0]&#10;Color: (0, 0, 0)\" style=\"width: 20px; height: 20px;background-color: rgb(0, 0, 0);\"></td><td title=\"Index: [0, 1]&#10;Color: (0, 0, 0)\" style=\"width: 20px; height: 20px;background-color: rgb(0, 0, 0);\"></td><td title=\"Index: [0, 2]&#10;Color: (0, 0, 0)\" style=\"width: 20px; height: 20px;background-color: rgb(0, 0, 0);\"></td><td title=\"Index: [0, 3]&#10;Color: (0, 0, 0)\" style=\"width: 20px; height: 20px;background-color: rgb(0, 0, 0);\"></td><td title=\"Index: [0, 4]&#10;Color: (0, 0, 0)\" style=\"width: 20px; height: 20px;background-color: rgb(0, 0, 0);\"></td></tr><tr><td title=\"Index: [1, 0]&#10;Color: (0, 0, 0)\" style=\"width: 20px; height: 20px;background-color: rgb(0, 0, 0);\"></td><td title=\"Index: [1, 1]&#10;Color: (0, 0, 0)\" style=\"width: 20px; height: 20px;background-color: rgb(0, 0, 0);\"></td><td title=\"Index: [1, 2]&#10;Color: (0, 0, 0)\" style=\"width: 20px; height: 20px;background-color: rgb(0, 0, 0);\"></td><td title=\"Index: [1, 3]&#10;Color: (0, 0, 0)\" style=\"width: 20px; height: 20px;background-color: rgb(0, 0, 0);\"></td><td title=\"Index: [1, 4]&#10;Color: (0, 0, 0)\" style=\"width: 20px; height: 20px;background-color: rgb(0, 0, 0);\"></td></tr><tr><td title=\"Index: [2, 0]&#10;Color: (0, 0, 0)\" style=\"width: 20px; height: 20px;background-color: rgb(0, 0, 0);\"></td><td title=\"Index: [2, 1]&#10;Color: (0, 0, 0)\" style=\"width: 20px; height: 20px;background-color: rgb(0, 0, 0);\"></td><td title=\"Index: [2, 2]&#10;Color: (0, 0, 0)\" style=\"width: 20px; height: 20px;background-color: rgb(0, 0, 0);\"></td><td title=\"Index: [2, 3]&#10;Color: (0, 0, 0)\" style=\"width: 20px; height: 20px;background-color: rgb(0, 0, 0);\"></td><td title=\"Index: [2, 4]&#10;Color: (0, 0, 0)\" style=\"width: 20px; height: 20px;background-color: rgb(0, 0, 0);\"></td></tr><tr><td title=\"Index: [3, 0]&#10;Color: (0, 0, 0)\" style=\"width: 20px; height: 20px;background-color: rgb(0, 0, 0);\"></td><td title=\"Index: [3, 1]&#10;Color: (0, 0, 0)\" style=\"width: 20px; height: 20px;background-color: rgb(0, 0, 0);\"></td><td title=\"Index: [3, 2]&#10;Color: (0, 0, 0)\" style=\"width: 20px; height: 20px;background-color: rgb(0, 0, 0);\"></td><td title=\"Index: [3, 3]&#10;Color: (0, 0, 0)\" style=\"width: 20px; height: 20px;background-color: rgb(0, 0, 0);\"></td><td title=\"Index: [3, 4]&#10;Color: (0, 0, 0)\" style=\"width: 20px; height: 20px;background-color: rgb(0, 0, 0);\"></td></tr><tr><td title=\"Index: [4, 0]&#10;Color: (0, 0, 0)\" style=\"width: 20px; height: 20px;background-color: rgb(0, 0, 0);\"></td><td title=\"Index: [4, 1]&#10;Color: (0, 0, 0)\" style=\"width: 20px; height: 20px;background-color: rgb(0, 0, 0);\"></td><td title=\"Index: [4, 2]&#10;Color: (0, 0, 0)\" style=\"width: 20px; height: 20px;background-color: rgb(0, 0, 0);\"></td><td title=\"Index: [4, 3]&#10;Color: (0, 0, 0)\" style=\"width: 20px; height: 20px;background-color: rgb(0, 0, 0);\"></td><td title=\"Index: [4, 4]&#10;Color: (0, 0, 0)\" style=\"width: 20px; height: 20px;background-color: rgb(0, 0, 0);\"></td></tr></tbody></table>"
      ],
      "text/plain": [
       "<ipythonblocks.ipythonblocks.BlockGrid at 0x7fc66037b0f0>"
      ]
     },
     "execution_count": 3,
     "metadata": {},
     "output_type": "execute_result"
    }
   ],
   "source": [
    "grid = BlockGrid(5, 5)\n",
    "grid"
   ]
  },
  {
   "cell_type": "code",
   "execution_count": 4,
   "metadata": {},
   "outputs": [
    {
     "data": {
      "text/html": [
       "<style type=\"text/css\">table.blockgrid {border: none;} .blockgrid tr {border: none;} .blockgrid td {padding: 0px;} #blocks410c0eb9-9149-4794-a4e3-440873232df5 td {border: 0px solid white;}</style><table id=\"blocks410c0eb9-9149-4794-a4e3-440873232df5\" class=\"blockgrid\"><tbody><tr><td title=\"Index: [0, 0]&#10;Color: (0, 0, 0)\" style=\"width: 20px; height: 20px;background-color: rgb(0, 0, 0);\"></td></tr></tbody></table>"
      ],
      "text/plain": [
       "Block(0, 0, 0, size=20)"
      ]
     },
     "execution_count": 4,
     "metadata": {},
     "output_type": "execute_result"
    }
   ],
   "source": [
    "block = grid[0,0]\n",
    "block"
   ]
  },
  {
   "cell_type": "code",
   "execution_count": 13,
   "metadata": {},
   "outputs": [
    {
     "data": {
      "text/html": [
       "<style type=\"text/css\">table.blockgrid {border: none;} .blockgrid tr {border: none;} .blockgrid td {padding: 0px;} #blocks0aab4991-fc24-487c-ad5f-365820e1b313 td {border: 1px solid white;}</style><table id=\"blocks0aab4991-fc24-487c-ad5f-365820e1b313\" class=\"blockgrid\"><tbody><tr><td title=\"Index: [0, 0]&#10;Color: (154, 205, 50)\" style=\"width: 20px; height: 20px;background-color: rgb(154, 205, 50);\"></td><td title=\"Index: [0, 1]&#10;Color: (0, 0, 0)\" style=\"width: 20px; height: 20px;background-color: rgb(0, 0, 0);\"></td><td title=\"Index: [0, 2]&#10;Color: (0, 0, 0)\" style=\"width: 20px; height: 20px;background-color: rgb(0, 0, 0);\"></td><td title=\"Index: [0, 3]&#10;Color: (0, 0, 0)\" style=\"width: 20px; height: 20px;background-color: rgb(0, 0, 0);\"></td><td title=\"Index: [0, 4]&#10;Color: (0, 0, 0)\" style=\"width: 20px; height: 20px;background-color: rgb(0, 0, 0);\"></td></tr><tr><td title=\"Index: [1, 0]&#10;Color: (0, 0, 0)\" style=\"width: 20px; height: 20px;background-color: rgb(0, 0, 0);\"></td><td title=\"Index: [1, 1]&#10;Color: (0, 0, 0)\" style=\"width: 20px; height: 20px;background-color: rgb(0, 0, 0);\"></td><td title=\"Index: [1, 2]&#10;Color: (0, 0, 0)\" style=\"width: 20px; height: 20px;background-color: rgb(0, 0, 0);\"></td><td title=\"Index: [1, 3]&#10;Color: (0, 0, 0)\" style=\"width: 20px; height: 20px;background-color: rgb(0, 0, 0);\"></td><td title=\"Index: [1, 4]&#10;Color: (0, 0, 0)\" style=\"width: 20px; height: 20px;background-color: rgb(0, 0, 0);\"></td></tr><tr><td title=\"Index: [2, 0]&#10;Color: (0, 0, 0)\" style=\"width: 20px; height: 20px;background-color: rgb(0, 0, 0);\"></td><td title=\"Index: [2, 1]&#10;Color: (0, 0, 0)\" style=\"width: 20px; height: 20px;background-color: rgb(0, 0, 0);\"></td><td title=\"Index: [2, 2]&#10;Color: (0, 0, 0)\" style=\"width: 20px; height: 20px;background-color: rgb(0, 0, 0);\"></td><td title=\"Index: [2, 3]&#10;Color: (0, 0, 0)\" style=\"width: 20px; height: 20px;background-color: rgb(0, 0, 0);\"></td><td title=\"Index: [2, 4]&#10;Color: (0, 0, 0)\" style=\"width: 20px; height: 20px;background-color: rgb(0, 0, 0);\"></td></tr><tr><td title=\"Index: [3, 0]&#10;Color: (0, 0, 0)\" style=\"width: 20px; height: 20px;background-color: rgb(0, 0, 0);\"></td><td title=\"Index: [3, 1]&#10;Color: (0, 0, 0)\" style=\"width: 20px; height: 20px;background-color: rgb(0, 0, 0);\"></td><td title=\"Index: [3, 2]&#10;Color: (0, 0, 0)\" style=\"width: 20px; height: 20px;background-color: rgb(0, 0, 0);\"></td><td title=\"Index: [3, 3]&#10;Color: (0, 0, 0)\" style=\"width: 20px; height: 20px;background-color: rgb(0, 0, 0);\"></td><td title=\"Index: [3, 4]&#10;Color: (0, 0, 0)\" style=\"width: 20px; height: 20px;background-color: rgb(0, 0, 0);\"></td></tr><tr><td title=\"Index: [4, 0]&#10;Color: (0, 0, 0)\" style=\"width: 20px; height: 20px;background-color: rgb(0, 0, 0);\"></td><td title=\"Index: [4, 1]&#10;Color: (0, 0, 0)\" style=\"width: 20px; height: 20px;background-color: rgb(0, 0, 0);\"></td><td title=\"Index: [4, 2]&#10;Color: (0, 0, 0)\" style=\"width: 20px; height: 20px;background-color: rgb(0, 0, 0);\"></td><td title=\"Index: [4, 3]&#10;Color: (0, 0, 0)\" style=\"width: 20px; height: 20px;background-color: rgb(0, 0, 0);\"></td><td title=\"Index: [4, 4]&#10;Color: (0, 0, 0)\" style=\"width: 20px; height: 20px;background-color: rgb(0, 0, 0);\"></td></tr></tbody></table>"
      ],
      "text/plain": [
       "<ipythonblocks.ipythonblocks.BlockGrid at 0x7fc66037b0f0>"
      ]
     },
     "execution_count": 13,
     "metadata": {},
     "output_type": "execute_result"
    }
   ],
   "source": [
    "block.rgb = colors.YellowGreen\n",
    "grid"
   ]
  },
  {
   "cell_type": "code",
   "execution_count": 14,
   "metadata": {},
   "outputs": [
    {
     "data": {
      "text/plain": [
       "140489994514560"
      ]
     },
     "execution_count": 14,
     "metadata": {},
     "output_type": "execute_result"
    }
   ],
   "source": [
    "id(block)"
   ]
  },
  {
   "cell_type": "code",
   "execution_count": 15,
   "metadata": {},
   "outputs": [
    {
     "data": {
      "text/plain": [
       "140489994514560"
      ]
     },
     "execution_count": 15,
     "metadata": {},
     "output_type": "execute_result"
    }
   ],
   "source": [
    "id(grid[0,0])"
   ]
  },
  {
   "cell_type": "code",
   "execution_count": 18,
   "metadata": {},
   "outputs": [
    {
     "data": {
      "text/html": [
       "<style type=\"text/css\">table.blockgrid {border: none;} .blockgrid tr {border: none;} .blockgrid td {padding: 0px;} #blocks59e9b922-497a-40be-97c8-5c9a1da3fdb2 td {border: 1px solid white;}</style><table id=\"blocks59e9b922-497a-40be-97c8-5c9a1da3fdb2\" class=\"blockgrid\"><tbody><tr><td title=\"Index: [0, 0]&#10;Color: (154, 205, 50)\" style=\"width: 20px; height: 20px;background-color: rgb(154, 205, 50);\"></td><td title=\"Index: [0, 1]&#10;Color: (0, 0, 0)\" style=\"width: 20px; height: 20px;background-color: rgb(0, 0, 0);\"></td><td title=\"Index: [0, 2]&#10;Color: (0, 0, 0)\" style=\"width: 20px; height: 20px;background-color: rgb(0, 0, 0);\"></td><td title=\"Index: [0, 3]&#10;Color: (0, 0, 0)\" style=\"width: 20px; height: 20px;background-color: rgb(0, 0, 0);\"></td><td title=\"Index: [0, 4]&#10;Color: (0, 0, 0)\" style=\"width: 20px; height: 20px;background-color: rgb(0, 0, 0);\"></td></tr><tr><td title=\"Index: [1, 0]&#10;Color: (0, 0, 0)\" style=\"width: 20px; height: 20px;background-color: rgb(0, 0, 0);\"></td><td title=\"Index: [1, 1]&#10;Color: (0, 0, 0)\" style=\"width: 20px; height: 20px;background-color: rgb(0, 0, 0);\"></td><td title=\"Index: [1, 2]&#10;Color: (0, 0, 0)\" style=\"width: 20px; height: 20px;background-color: rgb(0, 0, 0);\"></td><td title=\"Index: [1, 3]&#10;Color: (0, 0, 0)\" style=\"width: 20px; height: 20px;background-color: rgb(0, 0, 0);\"></td><td title=\"Index: [1, 4]&#10;Color: (0, 0, 0)\" style=\"width: 20px; height: 20px;background-color: rgb(0, 0, 0);\"></td></tr><tr><td title=\"Index: [2, 0]&#10;Color: (0, 0, 0)\" style=\"width: 20px; height: 20px;background-color: rgb(0, 0, 0);\"></td><td title=\"Index: [2, 1]&#10;Color: (0, 0, 0)\" style=\"width: 20px; height: 20px;background-color: rgb(0, 0, 0);\"></td><td title=\"Index: [2, 2]&#10;Color: (255, 0, 0)\" style=\"width: 20px; height: 20px;background-color: rgb(255, 0, 0);\"></td><td title=\"Index: [2, 3]&#10;Color: (0, 0, 0)\" style=\"width: 20px; height: 20px;background-color: rgb(0, 0, 0);\"></td><td title=\"Index: [2, 4]&#10;Color: (0, 0, 0)\" style=\"width: 20px; height: 20px;background-color: rgb(0, 0, 0);\"></td></tr><tr><td title=\"Index: [3, 0]&#10;Color: (0, 0, 0)\" style=\"width: 20px; height: 20px;background-color: rgb(0, 0, 0);\"></td><td title=\"Index: [3, 1]&#10;Color: (0, 0, 0)\" style=\"width: 20px; height: 20px;background-color: rgb(0, 0, 0);\"></td><td title=\"Index: [3, 2]&#10;Color: (0, 0, 0)\" style=\"width: 20px; height: 20px;background-color: rgb(0, 0, 0);\"></td><td title=\"Index: [3, 3]&#10;Color: (0, 0, 0)\" style=\"width: 20px; height: 20px;background-color: rgb(0, 0, 0);\"></td><td title=\"Index: [3, 4]&#10;Color: (0, 0, 0)\" style=\"width: 20px; height: 20px;background-color: rgb(0, 0, 0);\"></td></tr><tr><td title=\"Index: [4, 0]&#10;Color: (0, 0, 0)\" style=\"width: 20px; height: 20px;background-color: rgb(0, 0, 0);\"></td><td title=\"Index: [4, 1]&#10;Color: (0, 0, 0)\" style=\"width: 20px; height: 20px;background-color: rgb(0, 0, 0);\"></td><td title=\"Index: [4, 2]&#10;Color: (0, 0, 0)\" style=\"width: 20px; height: 20px;background-color: rgb(0, 0, 0);\"></td><td title=\"Index: [4, 3]&#10;Color: (0, 0, 0)\" style=\"width: 20px; height: 20px;background-color: rgb(0, 0, 0);\"></td><td title=\"Index: [4, 4]&#10;Color: (0, 0, 0)\" style=\"width: 20px; height: 20px;background-color: rgb(0, 0, 0);\"></td></tr></tbody></table>"
      ],
      "text/plain": [
       "<ipythonblocks.ipythonblocks.BlockGrid at 0x7fc66037b0f0>"
      ]
     },
     "execution_count": 18,
     "metadata": {},
     "output_type": "execute_result"
    }
   ],
   "source": [
    "grid[2,3].rgb = colors.Black\n",
    "grid"
   ]
  },
  {
   "cell_type": "code",
   "execution_count": 19,
   "metadata": {},
   "outputs": [
    {
     "data": {
      "text/html": [
       "<style type=\"text/css\">table.blockgrid {border: none;} .blockgrid tr {border: none;} .blockgrid td {padding: 0px;} #blocks60c3d1a1-0645-4a9a-9129-558ad77b74ea td {border: 1px solid white;}</style><table id=\"blocks60c3d1a1-0645-4a9a-9129-558ad77b74ea\" class=\"blockgrid\"><tbody><tr><td title=\"Index: [0, 0]&#10;Color: (154, 205, 50)\" style=\"width: 20px; height: 20px;background-color: rgb(154, 205, 50);\"></td><td title=\"Index: [0, 1]&#10;Color: (0, 0, 0)\" style=\"width: 20px; height: 20px;background-color: rgb(0, 0, 0);\"></td><td title=\"Index: [0, 2]&#10;Color: (0, 0, 0)\" style=\"width: 20px; height: 20px;background-color: rgb(0, 0, 0);\"></td><td title=\"Index: [0, 3]&#10;Color: (0, 0, 0)\" style=\"width: 20px; height: 20px;background-color: rgb(0, 0, 0);\"></td><td title=\"Index: [0, 4]&#10;Color: (0, 0, 0)\" style=\"width: 20px; height: 20px;background-color: rgb(0, 0, 0);\"></td></tr><tr><td title=\"Index: [1, 0]&#10;Color: (0, 0, 0)\" style=\"width: 20px; height: 20px;background-color: rgb(0, 0, 0);\"></td><td title=\"Index: [1, 1]&#10;Color: (0, 0, 0)\" style=\"width: 20px; height: 20px;background-color: rgb(0, 0, 0);\"></td><td title=\"Index: [1, 2]&#10;Color: (0, 0, 0)\" style=\"width: 20px; height: 20px;background-color: rgb(0, 0, 0);\"></td><td title=\"Index: [1, 3]&#10;Color: (0, 0, 0)\" style=\"width: 20px; height: 20px;background-color: rgb(0, 0, 0);\"></td><td title=\"Index: [1, 4]&#10;Color: (0, 0, 0)\" style=\"width: 20px; height: 20px;background-color: rgb(0, 0, 0);\"></td></tr><tr><td title=\"Index: [2, 0]&#10;Color: (0, 0, 0)\" style=\"width: 20px; height: 20px;background-color: rgb(0, 0, 0);\"></td><td title=\"Index: [2, 1]&#10;Color: (0, 0, 0)\" style=\"width: 20px; height: 20px;background-color: rgb(0, 0, 0);\"></td><td title=\"Index: [2, 2]&#10;Color: (255, 0, 0)\" style=\"width: 20px; height: 20px;background-color: rgb(255, 0, 0);\"></td><td title=\"Index: [2, 3]&#10;Color: (0, 0, 0)\" style=\"width: 20px; height: 20px;background-color: rgb(0, 0, 0);\"></td><td title=\"Index: [2, 4]&#10;Color: (0, 0, 0)\" style=\"width: 20px; height: 20px;background-color: rgb(0, 0, 0);\"></td></tr><tr><td title=\"Index: [3, 0]&#10;Color: (0, 0, 0)\" style=\"width: 20px; height: 20px;background-color: rgb(0, 0, 0);\"></td><td title=\"Index: [3, 1]&#10;Color: (0, 0, 0)\" style=\"width: 20px; height: 20px;background-color: rgb(0, 0, 0);\"></td><td title=\"Index: [3, 2]&#10;Color: (0, 0, 0)\" style=\"width: 20px; height: 20px;background-color: rgb(0, 0, 0);\"></td><td title=\"Index: [3, 3]&#10;Color: (0, 0, 0)\" style=\"width: 20px; height: 20px;background-color: rgb(0, 0, 0);\"></td><td title=\"Index: [3, 4]&#10;Color: (0, 0, 0)\" style=\"width: 20px; height: 20px;background-color: rgb(0, 0, 0);\"></td></tr><tr><td title=\"Index: [4, 0]&#10;Color: (0, 0, 0)\" style=\"width: 20px; height: 20px;background-color: rgb(0, 0, 0);\"></td><td title=\"Index: [4, 1]&#10;Color: (0, 0, 0)\" style=\"width: 20px; height: 20px;background-color: rgb(0, 0, 0);\"></td><td title=\"Index: [4, 2]&#10;Color: (0, 0, 0)\" style=\"width: 20px; height: 20px;background-color: rgb(0, 0, 0);\"></td><td title=\"Index: [4, 3]&#10;Color: (0, 0, 0)\" style=\"width: 20px; height: 20px;background-color: rgb(0, 0, 0);\"></td><td title=\"Index: [4, 4]&#10;Color: (72, 61, 139)\" style=\"width: 20px; height: 20px;background-color: rgb(72, 61, 139);\"></td></tr></tbody></table>"
      ],
      "text/plain": [
       "<ipythonblocks.ipythonblocks.BlockGrid at 0x7fc66037b0f0>"
      ]
     },
     "execution_count": 19,
     "metadata": {},
     "output_type": "execute_result"
    }
   ],
   "source": [
    "grid[4,4].rgb = colors.DarkSlateBlue\n",
    "grid"
   ]
  },
  {
   "cell_type": "code",
   "execution_count": 22,
   "metadata": {},
   "outputs": [
    {
     "data": {
      "text/html": [
       "<style type=\"text/css\">table.blockgrid {border: none;} .blockgrid tr {border: none;} .blockgrid td {padding: 0px;} #blocks0c753a45-34c5-4127-a02d-00dc1e39c2a0 td {border: 1px solid white;}</style><table id=\"blocks0c753a45-34c5-4127-a02d-00dc1e39c2a0\" class=\"blockgrid\"><tbody><tr><td title=\"Index: [0, 0]&#10;Color: (154, 205, 50)\" style=\"width: 20px; height: 20px;background-color: rgb(154, 205, 50);\"></td><td title=\"Index: [0, 1]&#10;Color: (0, 0, 0)\" style=\"width: 20px; height: 20px;background-color: rgb(0, 0, 0);\"></td><td title=\"Index: [0, 2]&#10;Color: (0, 0, 0)\" style=\"width: 20px; height: 20px;background-color: rgb(0, 0, 0);\"></td><td title=\"Index: [0, 3]&#10;Color: (0, 0, 0)\" style=\"width: 20px; height: 20px;background-color: rgb(0, 0, 0);\"></td><td title=\"Index: [0, 4]&#10;Color: (0, 0, 0)\" style=\"width: 20px; height: 20px;background-color: rgb(0, 0, 0);\"></td></tr><tr><td title=\"Index: [1, 0]&#10;Color: (0, 0, 0)\" style=\"width: 20px; height: 20px;background-color: rgb(0, 0, 0);\"></td><td title=\"Index: [1, 1]&#10;Color: (0, 0, 0)\" style=\"width: 20px; height: 20px;background-color: rgb(0, 0, 0);\"></td><td title=\"Index: [1, 2]&#10;Color: (0, 0, 0)\" style=\"width: 20px; height: 20px;background-color: rgb(0, 0, 0);\"></td><td title=\"Index: [1, 3]&#10;Color: (0, 0, 0)\" style=\"width: 20px; height: 20px;background-color: rgb(0, 0, 0);\"></td><td title=\"Index: [1, 4]&#10;Color: (0, 0, 0)\" style=\"width: 20px; height: 20px;background-color: rgb(0, 0, 0);\"></td></tr><tr><td title=\"Index: [2, 0]&#10;Color: (0, 0, 0)\" style=\"width: 20px; height: 20px;background-color: rgb(0, 0, 0);\"></td><td title=\"Index: [2, 1]&#10;Color: (0, 0, 0)\" style=\"width: 20px; height: 20px;background-color: rgb(0, 0, 0);\"></td><td title=\"Index: [2, 2]&#10;Color: (255, 0, 0)\" style=\"width: 20px; height: 20px;background-color: rgb(255, 0, 0);\"></td><td title=\"Index: [2, 3]&#10;Color: (0, 0, 0)\" style=\"width: 20px; height: 20px;background-color: rgb(0, 0, 0);\"></td><td title=\"Index: [2, 4]&#10;Color: (0, 0, 0)\" style=\"width: 20px; height: 20px;background-color: rgb(0, 0, 0);\"></td></tr><tr><td title=\"Index: [3, 0]&#10;Color: (0, 0, 0)\" style=\"width: 20px; height: 20px;background-color: rgb(0, 0, 0);\"></td><td title=\"Index: [3, 1]&#10;Color: (0, 0, 0)\" style=\"width: 20px; height: 20px;background-color: rgb(0, 0, 0);\"></td><td title=\"Index: [3, 2]&#10;Color: (0, 0, 0)\" style=\"width: 20px; height: 20px;background-color: rgb(0, 0, 0);\"></td><td title=\"Index: [3, 3]&#10;Color: (0, 0, 0)\" style=\"width: 20px; height: 20px;background-color: rgb(0, 0, 0);\"></td><td title=\"Index: [3, 4]&#10;Color: (245, 245, 220)\" style=\"width: 20px; height: 20px;background-color: rgb(245, 245, 220);\"></td></tr><tr><td title=\"Index: [4, 0]&#10;Color: (0, 0, 0)\" style=\"width: 20px; height: 20px;background-color: rgb(0, 0, 0);\"></td><td title=\"Index: [4, 1]&#10;Color: (0, 0, 0)\" style=\"width: 20px; height: 20px;background-color: rgb(0, 0, 0);\"></td><td title=\"Index: [4, 2]&#10;Color: (0, 0, 0)\" style=\"width: 20px; height: 20px;background-color: rgb(0, 0, 0);\"></td><td title=\"Index: [4, 3]&#10;Color: (0, 0, 0)\" style=\"width: 20px; height: 20px;background-color: rgb(0, 0, 0);\"></td><td title=\"Index: [4, 4]&#10;Color: (72, 61, 139)\" style=\"width: 20px; height: 20px;background-color: rgb(72, 61, 139);\"></td></tr></tbody></table>"
      ],
      "text/plain": [
       "<ipythonblocks.ipythonblocks.BlockGrid at 0x7fc66037b0f0>"
      ]
     },
     "execution_count": 22,
     "metadata": {},
     "output_type": "execute_result"
    }
   ],
   "source": [
    "grid[-2,-1].rgb = colors.Beige\n",
    "grid"
   ]
  },
  {
   "cell_type": "code",
   "execution_count": 23,
   "metadata": {},
   "outputs": [
    {
     "data": {
      "text/html": [
       "<style type=\"text/css\">table.blockgrid {border: none;} .blockgrid tr {border: none;} .blockgrid td {padding: 0px;} #blocks3f189864-9b6a-4b02-98ac-b34a27889df1 td {border: 1px solid white;}</style><table id=\"blocks3f189864-9b6a-4b02-98ac-b34a27889df1\" class=\"blockgrid\"><tbody><tr><td title=\"Index: [0, 0]&#10;Color: (154, 205, 50)\" style=\"width: 20px; height: 20px;background-color: rgb(154, 205, 50);\"></td><td title=\"Index: [0, 1]&#10;Color: (0, 0, 0)\" style=\"width: 20px; height: 20px;background-color: rgb(0, 0, 0);\"></td><td title=\"Index: [0, 2]&#10;Color: (0, 0, 0)\" style=\"width: 20px; height: 20px;background-color: rgb(0, 0, 0);\"></td><td title=\"Index: [0, 3]&#10;Color: (0, 0, 0)\" style=\"width: 20px; height: 20px;background-color: rgb(0, 0, 0);\"></td><td title=\"Index: [0, 4]&#10;Color: (0, 0, 0)\" style=\"width: 20px; height: 20px;background-color: rgb(0, 0, 0);\"></td></tr><tr><td title=\"Index: [1, 0]&#10;Color: (0, 0, 0)\" style=\"width: 20px; height: 20px;background-color: rgb(0, 0, 0);\"></td><td title=\"Index: [1, 1]&#10;Color: (0, 0, 0)\" style=\"width: 20px; height: 20px;background-color: rgb(0, 0, 0);\"></td><td title=\"Index: [1, 2]&#10;Color: (0, 0, 0)\" style=\"width: 20px; height: 20px;background-color: rgb(0, 0, 0);\"></td><td title=\"Index: [1, 3]&#10;Color: (0, 0, 0)\" style=\"width: 20px; height: 20px;background-color: rgb(0, 0, 0);\"></td><td title=\"Index: [1, 4]&#10;Color: (0, 0, 0)\" style=\"width: 20px; height: 20px;background-color: rgb(0, 0, 0);\"></td></tr><tr><td title=\"Index: [2, 0]&#10;Color: (0, 0, 0)\" style=\"width: 20px; height: 20px;background-color: rgb(0, 0, 0);\"></td><td title=\"Index: [2, 1]&#10;Color: (0, 0, 0)\" style=\"width: 20px; height: 20px;background-color: rgb(0, 0, 0);\"></td><td title=\"Index: [2, 2]&#10;Color: (255, 0, 0)\" style=\"width: 20px; height: 20px;background-color: rgb(255, 0, 0);\"></td><td title=\"Index: [2, 3]&#10;Color: (0, 0, 0)\" style=\"width: 20px; height: 20px;background-color: rgb(0, 0, 0);\"></td><td title=\"Index: [2, 4]&#10;Color: (0, 0, 0)\" style=\"width: 20px; height: 20px;background-color: rgb(0, 0, 0);\"></td></tr><tr><td title=\"Index: [3, 0]&#10;Color: (0, 0, 0)\" style=\"width: 20px; height: 20px;background-color: rgb(0, 0, 0);\"></td><td title=\"Index: [3, 1]&#10;Color: (0, 0, 0)\" style=\"width: 20px; height: 20px;background-color: rgb(0, 0, 0);\"></td><td title=\"Index: [3, 2]&#10;Color: (0, 0, 0)\" style=\"width: 20px; height: 20px;background-color: rgb(0, 0, 0);\"></td><td title=\"Index: [3, 3]&#10;Color: (0, 0, 0)\" style=\"width: 20px; height: 20px;background-color: rgb(0, 0, 0);\"></td><td title=\"Index: [3, 4]&#10;Color: (245, 245, 220)\" style=\"width: 20px; height: 20px;background-color: rgb(245, 245, 220);\"></td></tr><tr><td title=\"Index: [4, 0]&#10;Color: (0, 0, 0)\" style=\"width: 20px; height: 20px;background-color: rgb(0, 0, 0);\"></td><td title=\"Index: [4, 1]&#10;Color: (0, 0, 0)\" style=\"width: 20px; height: 20px;background-color: rgb(0, 0, 0);\"></td><td title=\"Index: [4, 2]&#10;Color: (0, 0, 0)\" style=\"width: 20px; height: 20px;background-color: rgb(0, 0, 0);\"></td><td title=\"Index: [4, 3]&#10;Color: (240, 255, 240)\" style=\"width: 20px; height: 20px;background-color: rgb(240, 255, 240);\"></td><td title=\"Index: [4, 4]&#10;Color: (72, 61, 139)\" style=\"width: 20px; height: 20px;background-color: rgb(72, 61, 139);\"></td></tr></tbody></table>"
      ],
      "text/plain": [
       "<ipythonblocks.ipythonblocks.BlockGrid at 0x7fc66037b0f0>"
      ]
     },
     "execution_count": 23,
     "metadata": {},
     "output_type": "execute_result"
    }
   ],
   "source": [
    "grid[-1,-2].rgb = colors.Honeydew\n",
    "grid"
   ]
  },
  {
   "cell_type": "code",
   "execution_count": 27,
   "metadata": {},
   "outputs": [
    {
     "data": {
      "text/html": [
       "<style type=\"text/css\">table.blockgrid {border: none;} .blockgrid tr {border: none;} .blockgrid td {padding: 0px;} #blocks30069575-859e-4d0c-8dbc-dc142b0db9d5 td {border: 1px solid white;}</style><table id=\"blocks30069575-859e-4d0c-8dbc-dc142b0db9d5\" class=\"blockgrid\"><tbody><tr><td title=\"Index: [0, 0]&#10;Color: (165, 42, 42)\" style=\"width: 20px; height: 20px;background-color: rgb(165, 42, 42);\"></td><td title=\"Index: [0, 1]&#10;Color: (165, 42, 42)\" style=\"width: 20px; height: 20px;background-color: rgb(165, 42, 42);\"></td><td title=\"Index: [0, 2]&#10;Color: (165, 42, 42)\" style=\"width: 20px; height: 20px;background-color: rgb(165, 42, 42);\"></td><td title=\"Index: [0, 3]&#10;Color: (165, 42, 42)\" style=\"width: 20px; height: 20px;background-color: rgb(165, 42, 42);\"></td><td title=\"Index: [0, 4]&#10;Color: (165, 42, 42)\" style=\"width: 20px; height: 20px;background-color: rgb(165, 42, 42);\"></td></tr><tr><td title=\"Index: [1, 0]&#10;Color: (165, 42, 42)\" style=\"width: 20px; height: 20px;background-color: rgb(165, 42, 42);\"></td><td title=\"Index: [1, 1]&#10;Color: (165, 42, 42)\" style=\"width: 20px; height: 20px;background-color: rgb(165, 42, 42);\"></td><td title=\"Index: [1, 2]&#10;Color: (165, 42, 42)\" style=\"width: 20px; height: 20px;background-color: rgb(165, 42, 42);\"></td><td title=\"Index: [1, 3]&#10;Color: (165, 42, 42)\" style=\"width: 20px; height: 20px;background-color: rgb(165, 42, 42);\"></td><td title=\"Index: [1, 4]&#10;Color: (165, 42, 42)\" style=\"width: 20px; height: 20px;background-color: rgb(165, 42, 42);\"></td></tr><tr><td title=\"Index: [2, 0]&#10;Color: (165, 42, 42)\" style=\"width: 20px; height: 20px;background-color: rgb(165, 42, 42);\"></td><td title=\"Index: [2, 1]&#10;Color: (165, 42, 42)\" style=\"width: 20px; height: 20px;background-color: rgb(165, 42, 42);\"></td><td title=\"Index: [2, 2]&#10;Color: (165, 42, 42)\" style=\"width: 20px; height: 20px;background-color: rgb(165, 42, 42);\"></td><td title=\"Index: [2, 3]&#10;Color: (165, 42, 42)\" style=\"width: 20px; height: 20px;background-color: rgb(165, 42, 42);\"></td><td title=\"Index: [2, 4]&#10;Color: (165, 42, 42)\" style=\"width: 20px; height: 20px;background-color: rgb(165, 42, 42);\"></td></tr><tr><td title=\"Index: [3, 0]&#10;Color: (165, 42, 42)\" style=\"width: 20px; height: 20px;background-color: rgb(165, 42, 42);\"></td><td title=\"Index: [3, 1]&#10;Color: (165, 42, 42)\" style=\"width: 20px; height: 20px;background-color: rgb(165, 42, 42);\"></td><td title=\"Index: [3, 2]&#10;Color: (165, 42, 42)\" style=\"width: 20px; height: 20px;background-color: rgb(165, 42, 42);\"></td><td title=\"Index: [3, 3]&#10;Color: (165, 42, 42)\" style=\"width: 20px; height: 20px;background-color: rgb(165, 42, 42);\"></td><td title=\"Index: [3, 4]&#10;Color: (165, 42, 42)\" style=\"width: 20px; height: 20px;background-color: rgb(165, 42, 42);\"></td></tr><tr><td title=\"Index: [4, 0]&#10;Color: (165, 42, 42)\" style=\"width: 20px; height: 20px;background-color: rgb(165, 42, 42);\"></td><td title=\"Index: [4, 1]&#10;Color: (165, 42, 42)\" style=\"width: 20px; height: 20px;background-color: rgb(165, 42, 42);\"></td><td title=\"Index: [4, 2]&#10;Color: (165, 42, 42)\" style=\"width: 20px; height: 20px;background-color: rgb(165, 42, 42);\"></td><td title=\"Index: [4, 3]&#10;Color: (165, 42, 42)\" style=\"width: 20px; height: 20px;background-color: rgb(165, 42, 42);\"></td><td title=\"Index: [4, 4]&#10;Color: (165, 42, 42)\" style=\"width: 20px; height: 20px;background-color: rgb(165, 42, 42);\"></td></tr></tbody></table>"
      ],
      "text/plain": [
       "<ipythonblocks.ipythonblocks.BlockGrid at 0x7fc66037b0f0>"
      ]
     },
     "execution_count": 27,
     "metadata": {},
     "output_type": "execute_result"
    }
   ],
   "source": [
    "for blocos in grid:\n",
    "    blocos.rgb = colors.Brown\n",
    "    \n",
    "grid"
   ]
  },
  {
   "cell_type": "code",
   "execution_count": 30,
   "metadata": {},
   "outputs": [
    {
     "data": {
      "text/html": [
       "<style type=\"text/css\">table.blockgrid {border: none;} .blockgrid tr {border: none;} .blockgrid td {padding: 0px;} #blocks4d8603dc-de75-408e-8ef1-f99d93aa4812 td {border: 1px solid white;}</style><table id=\"blocks4d8603dc-de75-408e-8ef1-f99d93aa4812\" class=\"blockgrid\"><tbody><tr><td title=\"Index: [0, 0]&#10;Color: (1, 1, 1)\" style=\"width: 20px; height: 20px;background-color: rgb(1, 1, 1);\"></td><td title=\"Index: [0, 1]&#10;Color: (1, 1, 1)\" style=\"width: 20px; height: 20px;background-color: rgb(1, 1, 1);\"></td><td title=\"Index: [0, 2]&#10;Color: (1, 1, 1)\" style=\"width: 20px; height: 20px;background-color: rgb(1, 1, 1);\"></td><td title=\"Index: [0, 3]&#10;Color: (1, 1, 1)\" style=\"width: 20px; height: 20px;background-color: rgb(1, 1, 1);\"></td><td title=\"Index: [0, 4]&#10;Color: (1, 1, 1)\" style=\"width: 20px; height: 20px;background-color: rgb(1, 1, 1);\"></td></tr><tr><td title=\"Index: [1, 0]&#10;Color: (1, 1, 1)\" style=\"width: 20px; height: 20px;background-color: rgb(1, 1, 1);\"></td><td title=\"Index: [1, 1]&#10;Color: (1, 1, 1)\" style=\"width: 20px; height: 20px;background-color: rgb(1, 1, 1);\"></td><td title=\"Index: [1, 2]&#10;Color: (1, 1, 1)\" style=\"width: 20px; height: 20px;background-color: rgb(1, 1, 1);\"></td><td title=\"Index: [1, 3]&#10;Color: (1, 1, 1)\" style=\"width: 20px; height: 20px;background-color: rgb(1, 1, 1);\"></td><td title=\"Index: [1, 4]&#10;Color: (1, 1, 1)\" style=\"width: 20px; height: 20px;background-color: rgb(1, 1, 1);\"></td></tr><tr><td title=\"Index: [2, 0]&#10;Color: (1, 1, 1)\" style=\"width: 20px; height: 20px;background-color: rgb(1, 1, 1);\"></td><td title=\"Index: [2, 1]&#10;Color: (1, 1, 1)\" style=\"width: 20px; height: 20px;background-color: rgb(1, 1, 1);\"></td><td title=\"Index: [2, 2]&#10;Color: (1, 1, 1)\" style=\"width: 20px; height: 20px;background-color: rgb(1, 1, 1);\"></td><td title=\"Index: [2, 3]&#10;Color: (1, 1, 1)\" style=\"width: 20px; height: 20px;background-color: rgb(1, 1, 1);\"></td><td title=\"Index: [2, 4]&#10;Color: (1, 1, 1)\" style=\"width: 20px; height: 20px;background-color: rgb(1, 1, 1);\"></td></tr><tr><td title=\"Index: [3, 0]&#10;Color: (1, 1, 1)\" style=\"width: 20px; height: 20px;background-color: rgb(1, 1, 1);\"></td><td title=\"Index: [3, 1]&#10;Color: (1, 1, 1)\" style=\"width: 20px; height: 20px;background-color: rgb(1, 1, 1);\"></td><td title=\"Index: [3, 2]&#10;Color: (1, 1, 1)\" style=\"width: 20px; height: 20px;background-color: rgb(1, 1, 1);\"></td><td title=\"Index: [3, 3]&#10;Color: (1, 1, 1)\" style=\"width: 20px; height: 20px;background-color: rgb(1, 1, 1);\"></td><td title=\"Index: [3, 4]&#10;Color: (1, 1, 1)\" style=\"width: 20px; height: 20px;background-color: rgb(1, 1, 1);\"></td></tr><tr><td title=\"Index: [4, 0]&#10;Color: (1, 1, 1)\" style=\"width: 20px; height: 20px;background-color: rgb(1, 1, 1);\"></td><td title=\"Index: [4, 1]&#10;Color: (1, 1, 1)\" style=\"width: 20px; height: 20px;background-color: rgb(1, 1, 1);\"></td><td title=\"Index: [4, 2]&#10;Color: (1, 1, 1)\" style=\"width: 20px; height: 20px;background-color: rgb(1, 1, 1);\"></td><td title=\"Index: [4, 3]&#10;Color: (1, 1, 1)\" style=\"width: 20px; height: 20px;background-color: rgb(1, 1, 1);\"></td><td title=\"Index: [4, 4]&#10;Color: (1, 1, 1)\" style=\"width: 20px; height: 20px;background-color: rgb(1, 1, 1);\"></td></tr></tbody></table>"
      ],
      "text/plain": [
       "<IPython.core.display.HTML object>"
      ]
     },
     "metadata": {},
     "output_type": "display_data"
    },
    {
     "data": {
      "text/html": [
       "<style type=\"text/css\">table.blockgrid {border: none;} .blockgrid tr {border: none;} .blockgrid td {padding: 0px;} #blocks4e335a9b-9e24-4c3b-85b8-110c8970c3ff td {border: 1px solid white;}</style><table id=\"blocks4e335a9b-9e24-4c3b-85b8-110c8970c3ff\" class=\"blockgrid\"><tbody><tr><td title=\"Index: [0, 0]&#10;Color: (1, 1, 1)\" style=\"width: 20px; height: 20px;background-color: rgb(1, 1, 1);\"></td><td title=\"Index: [0, 1]&#10;Color: (1, 1, 1)\" style=\"width: 20px; height: 20px;background-color: rgb(1, 1, 1);\"></td><td title=\"Index: [0, 2]&#10;Color: (1, 1, 1)\" style=\"width: 20px; height: 20px;background-color: rgb(1, 1, 1);\"></td><td title=\"Index: [0, 3]&#10;Color: (1, 1, 1)\" style=\"width: 20px; height: 20px;background-color: rgb(1, 1, 1);\"></td><td title=\"Index: [0, 4]&#10;Color: (1, 1, 1)\" style=\"width: 20px; height: 20px;background-color: rgb(1, 1, 1);\"></td></tr><tr><td title=\"Index: [1, 0]&#10;Color: (1, 1, 1)\" style=\"width: 20px; height: 20px;background-color: rgb(1, 1, 1);\"></td><td title=\"Index: [1, 1]&#10;Color: (1, 1, 1)\" style=\"width: 20px; height: 20px;background-color: rgb(1, 1, 1);\"></td><td title=\"Index: [1, 2]&#10;Color: (1, 1, 1)\" style=\"width: 20px; height: 20px;background-color: rgb(1, 1, 1);\"></td><td title=\"Index: [1, 3]&#10;Color: (1, 1, 1)\" style=\"width: 20px; height: 20px;background-color: rgb(1, 1, 1);\"></td><td title=\"Index: [1, 4]&#10;Color: (1, 1, 1)\" style=\"width: 20px; height: 20px;background-color: rgb(1, 1, 1);\"></td></tr><tr><td title=\"Index: [2, 0]&#10;Color: (1, 1, 1)\" style=\"width: 20px; height: 20px;background-color: rgb(1, 1, 1);\"></td><td title=\"Index: [2, 1]&#10;Color: (1, 1, 1)\" style=\"width: 20px; height: 20px;background-color: rgb(1, 1, 1);\"></td><td title=\"Index: [2, 2]&#10;Color: (1, 1, 1)\" style=\"width: 20px; height: 20px;background-color: rgb(1, 1, 1);\"></td><td title=\"Index: [2, 3]&#10;Color: (1, 1, 1)\" style=\"width: 20px; height: 20px;background-color: rgb(1, 1, 1);\"></td><td title=\"Index: [2, 4]&#10;Color: (1, 1, 1)\" style=\"width: 20px; height: 20px;background-color: rgb(1, 1, 1);\"></td></tr><tr><td title=\"Index: [3, 0]&#10;Color: (1, 1, 1)\" style=\"width: 20px; height: 20px;background-color: rgb(1, 1, 1);\"></td><td title=\"Index: [3, 1]&#10;Color: (1, 1, 1)\" style=\"width: 20px; height: 20px;background-color: rgb(1, 1, 1);\"></td><td title=\"Index: [3, 2]&#10;Color: (1, 1, 1)\" style=\"width: 20px; height: 20px;background-color: rgb(1, 1, 1);\"></td><td title=\"Index: [3, 3]&#10;Color: (1, 1, 1)\" style=\"width: 20px; height: 20px;background-color: rgb(1, 1, 1);\"></td><td title=\"Index: [3, 4]&#10;Color: (1, 1, 1)\" style=\"width: 20px; height: 20px;background-color: rgb(1, 1, 1);\"></td></tr><tr><td title=\"Index: [4, 0]&#10;Color: (1, 1, 1)\" style=\"width: 20px; height: 20px;background-color: rgb(1, 1, 1);\"></td><td title=\"Index: [4, 1]&#10;Color: (1, 1, 1)\" style=\"width: 20px; height: 20px;background-color: rgb(1, 1, 1);\"></td><td title=\"Index: [4, 2]&#10;Color: (1, 1, 1)\" style=\"width: 20px; height: 20px;background-color: rgb(1, 1, 1);\"></td><td title=\"Index: [4, 3]&#10;Color: (1, 1, 1)\" style=\"width: 20px; height: 20px;background-color: rgb(1, 1, 1);\"></td><td title=\"Index: [4, 4]&#10;Color: (1, 1, 1)\" style=\"width: 20px; height: 20px;background-color: rgb(1, 1, 1);\"></td></tr></tbody></table>"
      ],
      "text/plain": [
       "<ipythonblocks.ipythonblocks.BlockGrid at 0x7fc66037b0f0>"
      ]
     },
     "execution_count": 30,
     "metadata": {},
     "output_type": "execute_result"
    }
   ],
   "source": [
    "for blocos in grid.animate():\n",
    "    blocos.rgb = (100,100,100)\n",
    "    \n",
    "grid"
   ]
  },
  {
   "cell_type": "code",
   "execution_count": null,
   "metadata": {},
   "outputs": [],
   "source": []
  },
  {
   "cell_type": "code",
   "execution_count": null,
   "metadata": {},
   "outputs": [],
   "source": []
  },
  {
   "cell_type": "code",
   "execution_count": null,
   "metadata": {},
   "outputs": [],
   "source": []
  },
  {
   "cell_type": "code",
   "execution_count": null,
   "metadata": {},
   "outputs": [],
   "source": []
  },
  {
   "cell_type": "code",
   "execution_count": null,
   "metadata": {},
   "outputs": [],
   "source": []
  },
  {
   "cell_type": "code",
   "execution_count": null,
   "metadata": {},
   "outputs": [],
   "source": [
    "soma = (1,2,3,4,5,6,7,8,9,10)\n",
    "print (soma[2])\n",
    "\n",
    "for c in range (0, len(soma)):\n",
    "    print (f'n {c}')\n",
    "#for c in range (soma.length):\n",
    "    #for d in range (1, 11):\n",
    "    #if c % 3 == 0:\n",
    "        #soma = c * 7\n",
    "    #print ('[{}, {}]'.format(c, soma))\n",
    "    #print ('\\n')"
   ]
  },
  {
   "cell_type": "code",
   "execution_count": null,
   "metadata": {},
   "outputs": [],
   "source": []
  },
  {
   "cell_type": "code",
   "execution_count": null,
   "metadata": {},
   "outputs": [],
   "source": []
  }
 ],
 "metadata": {
  "kernelspec": {
   "display_name": "Python 3",
   "language": "python",
   "name": "python3"
  },
  "language_info": {
   "codemirror_mode": {
    "name": "ipython",
    "version": 3
   },
   "file_extension": ".py",
   "mimetype": "text/x-python",
   "name": "python",
   "nbconvert_exporter": "python",
   "pygments_lexer": "ipython3",
   "version": "3.7.3"
  }
 },
 "nbformat": 4,
 "nbformat_minor": 2
}
